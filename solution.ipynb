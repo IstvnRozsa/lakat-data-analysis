{
 "cells": [
  {
   "cell_type": "markdown",
   "metadata": {},
   "source": [
    "## Task 4. Real Epidemiology data\n",
    "How can we calculate the number of actually sick people? \n",
    "Can you extract this information for your country from the files."
   ]
  },
  {
   "cell_type": "code",
   "execution_count": 2,
   "metadata": {},
   "outputs": [],
   "source": [
    "import pandas as pd\n",
    "import matplotlib.pyplot as plt"
   ]
  },
  {
   "cell_type": "code",
   "execution_count": 3,
   "metadata": {},
   "outputs": [
    {
     "name": "stdout",
     "output_type": "stream",
     "text": [
      "749773\n",
      "809731\n",
      "30032\n",
      "The number of actually sick people in Hungary on 8/4/21: 29,926\n"
     ]
    }
   ],
   "source": [
    "def last_data(url:str, selected_country:str, selected_date:str):\n",
    "    df = pd.read_csv(url)\n",
    "    df = df.melt(id_vars=[\"Province/State\", \"Country/Region\", \"Lat\", \"Long\"], \n",
    "        var_name=\"Date\", \n",
    "        value_name=\"Value\")\n",
    "    df.sort_values(by=['Value'])\n",
    "    df2 = df[(df[\"Date\"]==selected_date) & (df[\"Country/Region\"] == selected_country)] \n",
    "    max = df2['Value'].groupby(df2[\"Date\"]).sum().max()\n",
    "    return max, df2\n",
    "\n",
    "\n",
    "confirmed_url = \"https://raw.githubusercontent.com/CSSEGISandData/COVID-19/master/csse_covid_19_data/csse_covid_19_time_series/time_series_covid19_confirmed_global.csv\"\n",
    "deaths_url = \"https://raw.githubusercontent.com/CSSEGISandData/COVID-19/master/csse_covid_19_data/csse_covid_19_time_series/time_series_covid19_deaths_global.csv\"\n",
    "recovered_url = \"https://raw.githubusercontent.com/CSSEGISandData/COVID-19/master/csse_covid_19_data/csse_covid_19_time_series/time_series_covid19_recovered_global.csv\"\n",
    "\n",
    "selected_country = \"Hungary\"\n",
    "selected_date = \"8/4/21\" # The last day when recovered cases was administrated\n",
    "confirmed, confirmed_df = last_data(confirmed_url, selected_country, selected_date)\n",
    "deaths, deaths_df = last_data(deaths_url, selected_country, selected_date)\n",
    "recovered, recovered_df = last_data(recovered_url, selected_country, selected_date)\n",
    "\n",
    "sick = confirmed - deaths - recovered\n",
    "print(recovered)\n",
    "print(confirmed)\n",
    "print(deaths)\n",
    "print(\"The number of actually sick people in \" + selected_country + \" on \"+selected_date+\":\", f\"{sick:,}\")"
   ]
  },
  {
   "cell_type": "markdown",
   "metadata": {},
   "source": [
    "## Task 5. Running cost for your experiment. \n",
    "\n",
    "You got a file from your usual supplier which is a text file. \n",
    "The first row is just a header with \"Reagent name Price Quantity\" \n",
    "From the second row there are the reagents this supplier has in store. The columns are delimitered by a TAB. The file is supplierprices.txt \n",
    "\n",
    "You need: \n",
    "- 100 liters of distilled water \n",
    "- 1000 liters of alcohol (96%) \n",
    "- 5 kg of rabbit litter \n",
    "- 50 g of fruit fly food "
   ]
  },
  {
   "cell_type": "code",
   "execution_count": 5,
   "metadata": {},
   "outputs": [
    {
     "name": "stdout",
     "output_type": "stream",
     "text": [
      "The price of distilled water: 1000 USD\n",
      "--------------------------------------------------\n",
      "The price of alcohol (96%): 30000 USD\n",
      "--------------------------------------------------\n",
      "The price of rabbit litter: 65 USD\n",
      "--------------------------------------------------\n",
      "The price of fruit fly food: 900 USD\n",
      "--------------------------------------------------\n"
     ]
    },
    {
     "data": {
      "image/png": "[encoded data removed]",
      "text/plain": [
       "<Figure size 640x480 with 1 Axes>"
      ]
     },
     "metadata": {},
     "output_type": "display_data"
    }
   ],
   "source": [
    "df = pd.read_csv(\"supplierprices.txt\", sep='\\t')\n",
    "\n",
    "\n",
    "needs = {\n",
    "    \"distilled water\":100,\n",
    "    \"alcohol (96%)\": 1000,\n",
    "    \"rabbit litter\": 5,\n",
    "    \"fruit fly food\":50\n",
    "    }\n",
    "\n",
    "needs_price = 0\n",
    "needs_with_price = {}\n",
    "for n in needs:\n",
    "    df2 = df[df[\"Reagent name\"]==n]\n",
    "    price = df2[\"Price Quantity\"].min() * needs[n]\n",
    "    print(\"The price of \" + n +\": \"+ str(price) + \" USD\")\n",
    "    needs_price += price\n",
    "    print(\"-\"*50)\n",
    "    needs_with_price[n] = price\n",
    "\n",
    "\n",
    "# Data to plot\n",
    "labels = []\n",
    "sizes = []\n",
    "\n",
    "for x, y in needs_with_price.items():\n",
    "    labels.append(x)\n",
    "    sizes.append(y)\n",
    "\n",
    "# Plot\n",
    "plt.pie(sizes, labels=labels)\n",
    "\n",
    "plt.axis('equal')\n",
    "plt.show()\n",
    "\n",
    "\n",
    "\n"
   ]
  }
 ],
 "metadata": {
  "kernelspec": {
   "display_name": "Python 3.10.5 ('venv': venv)",
   "language": "python",
   "name": "python3"
  },
  "language_info": {
   "codemirror_mode": {
    "name": "ipython",
    "version": 3
   },
   "file_extension": ".py",
   "mimetype": "text/x-python",
   "name": "python",
   "nbconvert_exporter": "python",
   "pygments_lexer": "ipython3",
   "version": "3.10.5"
  },
  "orig_nbformat": 4,
  "vscode": {
   "interpreter": {
    "hash": "002706a3c96f6dc5c1564b87e1ad68e781905cc5ab8ac2bc331347606c1b9533"
   }
  }
 },
 "nbformat": 4,
 "nbformat_minor": 2
}
