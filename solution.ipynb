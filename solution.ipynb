{
 "cells": [
  {
   "cell_type": "markdown",
   "metadata": {},
   "source": [
    "## Task 4. Real Epidemiology data\n",
    "How can we calculate the number of actually sick people? \n",
    "Can you extract this information for your country from the files."
   ]
  },
  {
   "cell_type": "code",
   "execution_count": 182,
   "metadata": {},
   "outputs": [],
   "source": [
    "import pandas as pd"
   ]
  },
  {
   "cell_type": "code",
   "execution_count": 188,
   "metadata": {},
   "outputs": [
    {
     "name": "stdout",
     "output_type": "stream",
     "text": [
      "749773\n",
      "809731\n",
      "30032\n",
      "The number of actually sick people in Hungary on 8/4/21: 29,926\n"
     ]
    }
   ],
   "source": [
    "def last_data(url:str, selected_country:str, selected_date:str):\n",
    "    df = pd.read_csv(url)\n",
    "    df = df.melt(id_vars=[\"Province/State\", \"Country/Region\", \"Lat\", \"Long\"], \n",
    "        var_name=\"Date\", \n",
    "        value_name=\"Value\")\n",
    "    df.sort_values(by=['Value'])\n",
    "    df2 = df[(df[\"Date\"]==\"8/4/21\") & (df[\"Country/Region\"] == selected_country)] \n",
    "    max = df2['Value'].groupby(df2[\"Date\"]).sum().max()\n",
    "    return max, df2\n",
    "\n",
    "\n",
    "confirmed_url = \"https://raw.githubusercontent.com/CSSEGISandData/COVID-19/master/csse_covid_19_data/csse_covid_19_time_series/time_series_covid19_confirmed_global.csv\"\n",
    "deaths_url = \"https://raw.githubusercontent.com/CSSEGISandData/COVID-19/master/csse_covid_19_data/csse_covid_19_time_series/time_series_covid19_deaths_global.csv\"\n",
    "recovered_url = \"https://raw.githubusercontent.com/CSSEGISandData/COVID-19/master/csse_covid_19_data/csse_covid_19_time_series/time_series_covid19_recovered_global.csv\"\n",
    "\n",
    "selected_country = \"Hungary\"\n",
    "selected_date = \"8/4/21\" # The last day when recovered cases was administrated\n",
    "confirmed, confirmed_df = last_data(confirmed_url, selected_country, selected_date)\n",
    "deaths, deaths_df = last_data(deaths_url, selected_country, selected_date)\n",
    "recovered, recovered_df = last_data(recovered_url, selected_country, selected_date)\n",
    "\n",
    "sick = confirmed - deaths - recovered\n",
    "print(recovered)\n",
    "print(confirmed)\n",
    "print(deaths)\n",
    "print(\"The number of actually sick people in \" + selected_country + \" on \"+selected_date+\":\", f\"{sick:,}\")"
   ]
  }
 ],
 "metadata": {
  "kernelspec": {
   "display_name": "Python 3.10.5 ('venv': venv)",
   "language": "python",
   "name": "python3"
  },
  "language_info": {
   "codemirror_mode": {
    "name": "ipython",
    "version": 3
   },
   "file_extension": ".py",
   "mimetype": "text/x-python",
   "name": "python",
   "nbconvert_exporter": "python",
   "pygments_lexer": "ipython3",
   "version": "3.10.5"
  },
  "orig_nbformat": 4,
  "vscode": {
   "interpreter": {
    "hash": "002706a3c96f6dc5c1564b87e1ad68e781905cc5ab8ac2bc331347606c1b9533"
   }
  }
 },
 "nbformat": 4,
 "nbformat_minor": 2
}
